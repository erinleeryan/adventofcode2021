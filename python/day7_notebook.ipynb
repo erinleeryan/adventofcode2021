{
 "cells": [
  {
   "cell_type": "code",
   "execution_count": 12,
   "metadata": {},
   "outputs": [],
   "source": [
    "import numpy as np\n",
    "from scipy.special import factorial"
   ]
  },
  {
   "cell_type": "code",
   "execution_count": 9,
   "metadata": {},
   "outputs": [
    {
     "name": "stdout",
     "output_type": "stream",
     "text": [
      "337833.0\n"
     ]
    }
   ],
   "source": [
    "\n",
    "day7_input = np.genfromtxt('..\\\\data\\\\day7_input.txt', dtype='int', delimiter=',')\n",
    "\n",
    "\n",
    "median = np.median(day7_input)\n",
    "mean = np.mean (day7_input)\n",
    "\n",
    "steps = np.abs(day7_input - median)\n",
    "\n",
    "print (np.sum(steps))"
   ]
  },
  {
   "cell_type": "code",
   "execution_count": 24,
   "metadata": {},
   "outputs": [
    {
     "name": "stdout",
     "output_type": "stream",
     "text": [
      "96678050.0\n"
     ]
    }
   ],
   "source": [
    "\n",
    "solution_range = np.arange(int(np.mean(day7_input) - np.std(day7_input)), int(np.mean(day7_input)+np.std(day7_input)))\n",
    "\n",
    "#print (solution_range)\n",
    "\n",
    "fuel = np.zeros(len(solution_range))\n",
    "\n",
    "for index in range(len(solution_range)):\n",
    "    steps = np.abs(day7_input - solution_range[index]) \n",
    "    total_fuel = np.sum(((steps+1)*steps)/2)\n",
    "    fuel[index] = total_fuel\n",
    "\n",
    "print (np.min(fuel))\n"
   ]
  },
  {
   "cell_type": "code",
   "execution_count": null,
   "metadata": {},
   "outputs": [],
   "source": []
  }
 ],
 "metadata": {
  "interpreter": {
   "hash": "e8fe848a4f9386a83e64b01f2a05ba222b3bb825547964d44003d8d92858d730"
  },
  "kernelspec": {
   "display_name": "Python 3.9.7 64-bit ('aoc2021': conda)",
   "language": "python",
   "name": "python3"
  },
  "language_info": {
   "codemirror_mode": {
    "name": "ipython",
    "version": 3
   },
   "file_extension": ".py",
   "mimetype": "text/x-python",
   "name": "python",
   "nbconvert_exporter": "python",
   "pygments_lexer": "ipython3",
   "version": "3.9.7"
  },
  "orig_nbformat": 4
 },
 "nbformat": 4,
 "nbformat_minor": 2
}
