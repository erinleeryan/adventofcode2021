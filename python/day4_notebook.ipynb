{
 "cells": [
  {
   "cell_type": "code",
   "execution_count": null,
   "metadata": {},
   "outputs": [],
   "source": []
  },
  {
   "cell_type": "code",
   "execution_count": 2,
   "metadata": {},
   "outputs": [],
   "source": [
    "import numpy as np"
   ]
  },
  {
   "cell_type": "code",
   "execution_count": 74,
   "metadata": {},
   "outputs": [
    {
     "name": "stdout",
     "output_type": "stream",
     "text": [
      "['7,4,9,5,11,17,23,2,0,14,21,24,10,16,13,6,15,25,12,22,18,20,8,19,3,26,1'\n",
      " '22 13 17 11  0' '8  2 23  4 24' '21  9 14 16  7' '6 10  3 18  5'\n",
      " '1 12 20 15 19' '3 15  0  2 22' '9 18 13 17  5' '19  8  7 25 23'\n",
      " '20 11 10 24  4' '14 21 16 12  6' '14 21 17 24  4' '10 16 15  9 19'\n",
      " '18  8 23 26 20' '22 11 13  6  5' '2  0 12  3  7']\n",
      "<U70\n",
      "(3, 5, 5)\n",
      "24\n",
      "(array([0], dtype=int64),) [[3 4 4 1 0]\n",
      " [2 3 2 3 2]\n",
      " [5 1 1 2 3]]\n"
     ]
    }
   ],
   "source": [
    "day4_input = np.genfromtxt('..\\\\data\\\\day4_test.txt', dtype='str', delimiter='\\\\n\\\\n')\n",
    "print (day4_input)\n",
    "print (day4_input.dtype)\n",
    "\n",
    "draws = np.array(day4_input[0].split(',')).astype('int')\n",
    "num_boards = int((len(day4_input) -1) / 5)\n",
    "\n",
    "boards = np.zeros((num_boards,5,5), dtype=int)\n",
    "board_mask = np.zeros((num_boards,5,5),dtype=int)\n",
    "\n",
    "for board in range(num_boards):\n",
    "    #print (day4_input[board*5 + 1].astype('str').dtype)\n",
    "    #print (np.char.split(day4_input[board*5 +1]).dtype)\n",
    "    first_row = np.array(day4_input[board*5+1].split()).astype('int')\n",
    "    second_row = np.array(day4_input[board*5+2].split()).astype('int')\n",
    "    third_row = np.array(day4_input[board*5+3].split()).astype('int')\n",
    "    fourth_row = np.array(day4_input[board*5+4].split()).astype('int')\n",
    "    fifth_row = np.array(day4_input[board*5+5].split()).astype('int')\n",
    "    boards[board,0,:] = first_row\n",
    "    boards[board,1,:] = second_row\n",
    "    boards[board,2,:] = third_row\n",
    "    boards[board,3,:] = fourth_row\n",
    "    boards[board,4,:] = fifth_row\n",
    "\n",
    "\n",
    "print (boards.shape)\n",
    "\n",
    "for draw in draws:\n",
    "    draw_match = np.where(boards == draw)\n",
    "    board_mask[draw_match] = 1\n",
    "\n",
    "    dir1 = np.sum(board_mask, axis=1)\n",
    "    dir2 = np.sum(board_mask, axis=2)\n",
    "\n",
    "    if ((np.max(dir1) == 5) | (np.max(dir2) == 5)):\n",
    "        print (draw) \n",
    "        if (np.max(dir1) == 5):\n",
    "            print (np.where(np.max(dir1) == 5, dir1))\n",
    "        if (np.max(dir2) == 5):\n",
    "            print (np.where(np.max(dir2) == 5),dir2)       \n",
    "        break\n",
    "\n",
    "    \n",
    "\n"
   ]
  },
  {
   "cell_type": "code",
   "execution_count": null,
   "metadata": {},
   "outputs": [],
   "source": []
  },
  {
   "cell_type": "code",
   "execution_count": 6,
   "metadata": {},
   "outputs": [
    {
     "name": "stdout",
     "output_type": "stream",
     "text": [
      "[-1 -1 -1 -1 -1 -1 -1 -1 -1 -1 -1 -1 -1 -1 -1 -1]\n"
     ]
    }
   ],
   "source": []
  },
  {
   "cell_type": "code",
   "execution_count": null,
   "metadata": {},
   "outputs": [],
   "source": []
  }
 ],
 "metadata": {
  "interpreter": {
   "hash": "e8fe848a4f9386a83e64b01f2a05ba222b3bb825547964d44003d8d92858d730"
  },
  "kernelspec": {
   "display_name": "Python 3.9.7 64-bit ('aoc2021': conda)",
   "language": "python",
   "name": "python3"
  },
  "language_info": {
   "codemirror_mode": {
    "name": "ipython",
    "version": 3
   },
   "file_extension": ".py",
   "mimetype": "text/x-python",
   "name": "python",
   "nbconvert_exporter": "python",
   "pygments_lexer": "ipython3",
   "version": "3.9.7"
  },
  "orig_nbformat": 4
 },
 "nbformat": 4,
 "nbformat_minor": 2
}
