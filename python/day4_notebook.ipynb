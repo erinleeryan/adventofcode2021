{
 "cells": [
  {
   "cell_type": "code",
   "execution_count": 1,
   "source": [
    "import numpy as np"
   ],
   "outputs": [],
   "metadata": {}
  },
  {
   "cell_type": "code",
   "execution_count": 74,
   "source": [
    "day4_input = np.genfromtxt('..\\\\data\\\\day4_input.txt', dtype='str', delimiter='\\\\n\\\\n')\r\n",
    "\r\n",
    "\r\n",
    "draws = np.array(day4_input[0].split(',')).astype('int')\r\n",
    "print (draws, len(draws))\r\n",
    "num_boards = int((len(day4_input) -1) / 5)\r\n",
    "print (num_boards)\r\n",
    "\r\n",
    "boards = np.zeros((num_boards,5,5), dtype=int)\r\n",
    "board_mask = np.zeros((num_boards,5,5),dtype=int)\r\n",
    "\r\n",
    "for board in range(num_boards):\r\n",
    "    #print (day4_input[board*5 + 1].astype('str').dtype)\r\n",
    "    #print (np.char.split(day4_input[board*5 +1]).dtype)\r\n",
    "    first_row = np.array(day4_input[board*5+1].split()).astype('int')\r\n",
    "    second_row = np.array(day4_input[board*5+2].split()).astype('int')\r\n",
    "    third_row = np.array(day4_input[board*5+3].split()).astype('int')\r\n",
    "    fourth_row = np.array(day4_input[board*5+4].split()).astype('int')\r\n",
    "    fifth_row = np.array(day4_input[board*5+5].split()).astype('int')\r\n",
    "    boards[board,0,:] = first_row\r\n",
    "    boards[board,1,:] = second_row\r\n",
    "    boards[board,2,:] = third_row\r\n",
    "    boards[board,3,:] = fourth_row\r\n",
    "    boards[board,4,:] = fifth_row\r\n",
    "\r\n",
    "\r\n",
    "\r\n",
    "for draw in draws:\r\n",
    "    draw_match = np.where(boards == draw)\r\n",
    "    board_mask[draw_match] = 1\r\n",
    "\r\n",
    "    dir1 = np.sum(board_mask, axis=1)\r\n",
    "    dir2 = np.sum(board_mask, axis=2)\r\n",
    "\r\n",
    "    if ((np.max(dir1) == 5) | (np.max(dir2) == 5)):\r\n",
    "        if (np.max(dir1) == 5):\r\n",
    "            winning = np.where(dir1 == 5)\r\n",
    "        if (np.max(dir2) == 5):\r\n",
    "            winning = np.where(dir2 == 5)   \r\n",
    "\r\n",
    "        board_masked= np.ma.array(boards[winning[0],::], mask=board_mask[winning[0],::])   \r\n",
    "        sum = board_masked.sum()\r\n",
    "        score = sum * draw\r\n",
    "        print (score)\r\n",
    "        break\r\n",
    "\r\n",
    "    \r\n",
    "\r\n"
   ],
   "outputs": [
    {
     "output_type": "stream",
     "name": "stdout",
     "text": [
      "[30 35  8  2 39 37 72  7 81 41 25 46 56 18 89 70  0 15 84 75 88 67 42 44\n",
      " 94 71 79 65 58 52 96 83 54 29 14 95 66 61 97 68 57 90 55 32 17 47 20 98\n",
      "  1 69 63 62 31 86 77 85 87 93 26 40 24 19 48 76 73 49 34 45 82 22 80 78\n",
      " 23  6 59 91 64 43 21 51 13  3 53 99  4 28 33 74 12  9 36 50 60 11 27 10\n",
      "  5 16 92 38] 100\n",
      "100\n",
      "54275\n"
     ]
    }
   ],
   "metadata": {}
  },
  {
   "cell_type": "code",
   "execution_count": 82,
   "source": [
    "board_bust = 0\r\n",
    "board_mask = np.zeros((num_boards,5,5),dtype=int)\r\n",
    "\r\n",
    "print (boards.shape)\r\n",
    "\r\n",
    "active_boards = boards\r\n",
    "\r\n",
    "for draw in draws:\r\n",
    "    draw_match = np.where(active_boards == draw)\r\n",
    "    board_mask[draw_match] = 1\r\n",
    "\r\n",
    "    dir1 = np.sum(board_mask, axis=1)\r\n",
    "    dir2 = np.sum(board_mask, axis=2)\r\n",
    "\r\n",
    "    dir1 = np.sum(board_mask, axis=1)\r\n",
    "    dir2 = np.sum(board_mask, axis=2)\r\n",
    "\r\n",
    "    busted_dir1 = np.where(dir1  == 5)\r\n",
    "    busted_dir2 = np.where(dir2 == 5)\r\n",
    "\r\n",
    "\r\n",
    "    if ((active_boards.shape[0] == 1) & ((np.max(dir1) == 5) | (np.max(dir2) == 5))):\r\n",
    "        print ('Final winner', draw)\r\n",
    "        print (active_boards)\r\n",
    "\r\n",
    "        board_masked= np.ma.array(active_boards, mask=board_mask)   \r\n",
    "        print (board_masked)\r\n",
    "        sum = board_masked.sum()\r\n",
    "        score = sum*draw\r\n",
    "        print (score)\r\n",
    "        break\r\n",
    "        \r\n",
    "\r\n",
    "\r\n",
    "    if ((len(busted_dir1[0]) >= 1) | (len(busted_dir2[0]) >=1 )):\r\n",
    "        #print (busted_dir1[0], busted_dir2[0])\r\n",
    "        all_busts = np.unique(np.concatenate((busted_dir1[0],busted_dir2[0])))\r\n",
    "        #print (all_busts, len(active_boards))\r\n",
    "        active_boards = np.delete(active_boards, all_busts, axis=0)\r\n",
    "        board_mask = np.delete(board_mask, all_busts, axis=0 )\r\n",
    "\r\n",
    "\r\n",
    "\r\n",
    "\r\n",
    "    \r\n",
    "\r\n",
    "\r\n",
    "\r\n",
    "\r\n",
    "\r\n"
   ],
   "outputs": [
    {
     "output_type": "stream",
     "name": "stdout",
     "text": [
      "(100, 5, 5)\n",
      "Final winner 51\n",
      "[[[91 60 47 93 54]\n",
      "  [69 70 66 85 74]\n",
      "  [61  5  9 37 40]\n",
      "  [51 99 42 82 26]\n",
      "  [84 30 19 11 75]]]\n",
      "[[[-- 60 -- -- --]\n",
      "  [-- -- -- -- 74]\n",
      "  [-- 5 9 -- --]\n",
      "  [-- 99 -- -- --]\n",
      "  [-- -- -- 11 --]]]\n",
      "13158\n"
     ]
    }
   ],
   "metadata": {}
  },
  {
   "cell_type": "code",
   "execution_count": 6,
   "source": [],
   "outputs": [
    {
     "output_type": "stream",
     "name": "stdout",
     "text": [
      "[-1 -1 -1 -1 -1 -1 -1 -1 -1 -1 -1 -1 -1 -1 -1 -1]\n"
     ]
    }
   ],
   "metadata": {}
  },
  {
   "cell_type": "code",
   "execution_count": null,
   "source": [],
   "outputs": [],
   "metadata": {}
  }
 ],
 "metadata": {
  "interpreter": {
   "hash": "f8f82b5f9943245d3c47e8eec4aca747556c89a7b5a708dc71da221a1d33791d"
  },
  "kernelspec": {
   "name": "python3",
   "display_name": "Python 3.7.3 64-bit ('base': conda)"
  },
  "language_info": {
   "codemirror_mode": {
    "name": "ipython",
    "version": 3
   },
   "file_extension": ".py",
   "mimetype": "text/x-python",
   "name": "python",
   "nbconvert_exporter": "python",
   "pygments_lexer": "ipython3",
   "version": "3.7.3"
  },
  "orig_nbformat": 4
 },
 "nbformat": 4,
 "nbformat_minor": 2
}