{
 "cells": [
  {
   "cell_type": "code",
   "execution_count": 2,
   "metadata": {},
   "outputs": [],
   "source": [
    "import numpy as np"
   ]
  },
  {
   "cell_type": "code",
   "execution_count": 5,
   "metadata": {},
   "outputs": [
    {
     "name": "stdout",
     "output_type": "stream",
     "text": [
      "[3. 3. 2. 1. 4. 1. 1. 2. 3. 1. 1. 2. 1. 2. 1. 1. 1. 1. 1. 1. 4. 1. 1. 5.\n",
      " 2. 1. 1. 2. 1. 1. 1. 3. 5. 1. 5. 5. 1. 1. 1. 1. 3. 1. 1. 3. 2. 1. 1. 1.\n",
      " 1. 1. 1. 4. 1. 1. 1. 1. 1. 1. 1. 4. 1. 3. 3. 1. 1. 3. 1. 3. 1. 2. 1. 3.\n",
      " 1. 1. 4. 1. 2. 4. 4. 5. 1. 1. 1. 1. 1. 1. 4. 1. 5. 1. 1. 5. 1. 1. 3. 3.\n",
      " 1. 3. 2. 5. 2. 4. 1. 4. 1. 2. 4. 5. 1. 1. 5. 1. 1. 1. 4. 1. 1. 5. 2. 1.\n",
      " 1. 5. 1. 1. 1. 5. 1. 1. 1. 1. 1. 3. 1. 5. 3. 2. 1. 1. 2. 2. 1. 2. 1. 1.\n",
      " 5. 1. 1. 4. 5. 1. 4. 3. 1. 1. 1. 1. 1. 1. 5. 1. 1. 1. 5. 2. 1. 1. 1. 5.\n",
      " 1. 1. 1. 4. 4. 2. 1. 1. 1. 1. 1. 1. 1. 3. 1. 1. 4. 4. 1. 4. 1. 1. 5. 3.\n",
      " 1. 1. 1. 5. 2. 2. 4. 2. 1. 1. 3. 1. 5. 5. 1. 1. 1. 4. 1. 5. 1. 1. 1. 4.\n",
      " 3. 3. 3. 1. 3. 1. 5. 1. 4. 2. 1. 1. 5. 1. 1. 1. 5. 5. 1. 1. 2. 1. 1. 1.\n",
      " 3. 1. 1. 1. 2. 3. 1. 2. 2. 3. 1. 3. 1. 1. 4. 1. 1. 2. 1. 1. 1. 1. 3. 5.\n",
      " 1. 1. 2. 1. 1. 1. 4. 1. 1. 1. 1. 1. 2. 4. 1. 1. 5. 3. 1. 1. 1. 2. 2. 2.\n",
      " 1. 5. 1. 3. 5. 3. 1. 1. 4. 1. 1. 4.]\n"
     ]
    },
    {
     "ename": "MemoryError",
     "evalue": "Unable to allocate 10.1 GiB for an array with shape (1355456055,) and data type float64",
     "output_type": "error",
     "traceback": [
      "\u001b[1;31m---------------------------------------------------------------------------\u001b[0m",
      "\u001b[1;31mMemoryError\u001b[0m                               Traceback (most recent call last)",
      "\u001b[1;32m~\\AppData\\Local\\Temp/ipykernel_19960/1019238101.py\u001b[0m in \u001b[0;36m<module>\u001b[1;34m\u001b[0m\n\u001b[0;32m     14\u001b[0m     \u001b[0mcount\u001b[0m\u001b[1;33m[\u001b[0m\u001b[0mnon_zero\u001b[0m\u001b[1;33m]\u001b[0m \u001b[1;33m-=\u001b[0m \u001b[1;36m1\u001b[0m\u001b[1;33m\u001b[0m\u001b[1;33m\u001b[0m\u001b[0m\n\u001b[0;32m     15\u001b[0m     \u001b[0mcount\u001b[0m\u001b[1;33m[\u001b[0m\u001b[0mzero\u001b[0m\u001b[1;33m]\u001b[0m \u001b[1;33m=\u001b[0m \u001b[1;36m6\u001b[0m\u001b[1;33m\u001b[0m\u001b[1;33m\u001b[0m\u001b[0m\n\u001b[1;32m---> 16\u001b[1;33m     \u001b[0mcount\u001b[0m \u001b[1;33m=\u001b[0m \u001b[0mnp\u001b[0m\u001b[1;33m.\u001b[0m\u001b[0mconcatenate\u001b[0m\u001b[1;33m(\u001b[0m\u001b[1;33m(\u001b[0m\u001b[0mcount\u001b[0m\u001b[1;33m,\u001b[0m \u001b[0mnp\u001b[0m\u001b[1;33m.\u001b[0m\u001b[0mones\u001b[0m\u001b[1;33m(\u001b[0m\u001b[0mlen\u001b[0m\u001b[1;33m(\u001b[0m\u001b[0mzero\u001b[0m\u001b[1;33m[\u001b[0m\u001b[1;36m0\u001b[0m\u001b[1;33m]\u001b[0m\u001b[1;33m)\u001b[0m\u001b[1;33m)\u001b[0m\u001b[1;33m*\u001b[0m\u001b[1;36m8\u001b[0m\u001b[1;33m)\u001b[0m\u001b[1;33m)\u001b[0m\u001b[1;33m\u001b[0m\u001b[1;33m\u001b[0m\u001b[0m\n\u001b[0m\u001b[0;32m     17\u001b[0m \u001b[1;33m\u001b[0m\u001b[0m\n\u001b[0;32m     18\u001b[0m \u001b[1;33m\u001b[0m\u001b[0m\n",
      "\u001b[1;32m<__array_function__ internals>\u001b[0m in \u001b[0;36mconcatenate\u001b[1;34m(*args, **kwargs)\u001b[0m\n",
      "\u001b[1;31mMemoryError\u001b[0m: Unable to allocate 10.1 GiB for an array with shape (1355456055,) and data type float64"
     ]
    }
   ],
   "source": [
    "day6_input = np.loadtxt('..\\\\data\\\\day6_input.txt', delimiter=',')\n",
    "\n",
    "\n",
    "count = day6_input\n",
    "\n",
    "\n",
    "#for day in range (1, 81):\n",
    "for day in range (1, 256):\n",
    "    non_zero = np.where(count != 0)\n",
    "    zero = np.where(count == 0)\n",
    "    count[non_zero] -= 1\n",
    "    count[zero] = 6\n",
    "    count = np.concatenate((count, np.ones(len(zero[0]))*8))\n",
    "\n",
    "\n",
    "print (len(count))"
   ]
  },
  {
   "cell_type": "code",
   "execution_count": null,
   "metadata": {},
   "outputs": [],
   "source": []
  }
 ],
 "metadata": {
  "interpreter": {
   "hash": "e8fe848a4f9386a83e64b01f2a05ba222b3bb825547964d44003d8d92858d730"
  },
  "kernelspec": {
   "display_name": "Python 3.9.7 64-bit ('aoc2021': conda)",
   "language": "python",
   "name": "python3"
  },
  "language_info": {
   "codemirror_mode": {
    "name": "ipython",
    "version": 3
   },
   "file_extension": ".py",
   "mimetype": "text/x-python",
   "name": "python",
   "nbconvert_exporter": "python",
   "pygments_lexer": "ipython3",
   "version": "3.9.7"
  },
  "orig_nbformat": 4
 },
 "nbformat": 4,
 "nbformat_minor": 2
}
