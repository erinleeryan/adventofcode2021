{
 "cells": [
  {
   "cell_type": "code",
   "execution_count": 2,
   "metadata": {},
   "outputs": [],
   "source": [
    "import numpy as np\n"
   ]
  },
  {
   "cell_type": "code",
   "execution_count": 21,
   "metadata": {},
   "outputs": [
    {
     "name": "stdout",
     "output_type": "stream",
     "text": [
      "7085\n"
     ]
    }
   ],
   "source": [
    "day5_input = np.genfromtxt('..\\\\data\\\\day5_input.txt', dtype='str', delimiter='//n')\n",
    "\n",
    "list2, list3 = map(list, zip(*(x.split('->') for x in day5_input)))\n",
    "\n",
    "\n",
    "x1,y1 = map(list, zip(*(x.split(',') for x in list2)))\n",
    "x2,y2 = map(list, zip(*(x.split(',') for x in list3)))\n",
    "x1=np.array(x1, dtype=int)\n",
    "x2=np.array(x2, dtype=int)\n",
    "y1=np.array(y1, dtype=int)\n",
    "y2=np.array(y2, dtype=int)\n",
    "\n",
    "xmax = np.max([np.max(x1), np.max(x2)])\n",
    "ymax = np.max([np.max(y1), np.max(y2)])\n",
    "\n",
    "\n",
    "check_array = np.zeros((xmax+1, ymax+1))\n",
    "\n",
    "for index in range(len(x1)):\n",
    "    xstart = x1[index] \n",
    "    xend = x2[index]\n",
    "    ystart = y1[index]\n",
    "    yend = y2[index]\n",
    "    if ((xstart == xend) | (ystart == yend)):\n",
    "        xmin = np.min([xstart, xend])\n",
    "        xmax = np.max([xstart, xend])\n",
    "        ymin = np.min([ystart, yend])\n",
    "        ymax = np.max([ystart, yend])\n",
    "        if (xmin == xmax):\n",
    "            check_array[xmin,ymin:ymax+1] = check_array[xmin,ymin:ymax+1] + 1.\n",
    "        if (ymin == ymax):\n",
    "            check_array[xmin:xmax+1,ymin] = check_array[xmin:xmax+1,ymin] + 1.\n",
    "\n",
    "\n",
    "count = np.count_nonzero(check_array > 1)\n",
    "print (count)"
   ]
  },
  {
   "cell_type": "code",
   "execution_count": 61,
   "metadata": {},
   "outputs": [
    {
     "name": "stdout",
     "output_type": "stream",
     "text": [
      "(990, 990)\n",
      "20271\n"
     ]
    }
   ],
   "source": [
    "\n",
    "day5_input = np.genfromtxt('..\\\\data\\\\day5_input.txt', dtype='str', delimiter='//n')\n",
    "\n",
    "list2, list3 = map(list, zip(*(x.split('->') for x in day5_input)))\n",
    "\n",
    "\n",
    "x1,y1 = map(list, zip(*(x.split(',') for x in list2)))\n",
    "x2,y2 = map(list, zip(*(x.split(',') for x in list3)))\n",
    "x1=np.array(x1, dtype=int)\n",
    "x2=np.array(x2, dtype=int)\n",
    "y1=np.array(y1, dtype=int)\n",
    "y2=np.array(y2, dtype=int)\n",
    "\n",
    "xmax = np.max([np.max(x1), np.max(x2)])\n",
    "ymax = np.max([np.max(y1), np.max(y2)])\n",
    "\n",
    "\n",
    "check_array = np.zeros((xmax+1, ymax+1))\n",
    "\n",
    "print (check_array.shape)\n",
    "\n",
    "for index in range(len(x1)):\n",
    "    xstart = x1[index] \n",
    "    xend = x2[index]\n",
    "    ystart = y1[index]\n",
    "    yend = y2[index]\n",
    "\n",
    "    xmin = np.min([xstart, xend])\n",
    "    xmax = np.max([xstart, xend])\n",
    "    ymin = np.min([ystart, yend])\n",
    "    ymax = np.max([ystart, yend])\n",
    "\n",
    "    if ((xstart == xend) | (ystart == yend)):    \n",
    "        if (xmin == xmax):\n",
    "            check_array[xmin,ymin:ymax+1] = check_array[xmin,ymin:ymax+1] + 1.\n",
    "        if (ymin == ymax):\n",
    "            check_array[xmin:xmax+1,ymin] = check_array[xmin:xmax+1,ymin] + 1.\n",
    "\n",
    "    else:\n",
    "        if (xend > xstart):\n",
    "            new_x = np.arange(xstart, xend+1)\n",
    "        if (xend < xstart):\n",
    "            new_x = np.arange(xend, xstart+1)\n",
    "            new_x = new_x[::-1]\n",
    "        if (yend > ystart):\n",
    "            new_y = np.arange(ystart, yend+1)\n",
    "        if (yend < ystart):\n",
    "            new_y =np.arange(yend, ystart+1)\n",
    "            new_y = new_y[::-1]\n",
    "\n",
    "        for line_el in range(len(new_x)):\n",
    "            check_array[new_x[line_el], new_y[line_el]] = check_array[new_x[line_el], new_y[line_el]] +1\n",
    "\n",
    "\n",
    "count = np.count_nonzero(check_array > 1)\n",
    "print (count)"
   ]
  },
  {
   "cell_type": "markdown",
   "metadata": {},
   "source": []
  },
  {
   "cell_type": "code",
   "execution_count": 40,
   "metadata": {},
   "outputs": [
    {
     "name": "stdout",
     "output_type": "stream",
     "text": [
      "[[1. 0. 0. 0. 0. 0. 0. 1. 0. 2.]\n",
      " [1. 0. 0. 0. 1. 0. 1. 0. 0. 2.]\n",
      " [1. 2. 1. 0. 1. 1. 0. 0. 0. 2.]\n",
      " [0. 1. 1. 0. 3. 0. 0. 0. 0. 1.]\n",
      " [0. 0. 1. 2. 1. 0. 0. 0. 0. 1.]\n",
      " [0. 0. 1. 1. 3. 0. 0. 0. 0. 1.]\n",
      " [0. 1. 0. 1. 2. 1. 0. 0. 0. 0.]\n",
      " [2. 1. 2. 1. 2. 0. 1. 0. 0. 0.]\n",
      " [1. 0. 1. 0. 1. 0. 0. 1. 0. 0.]\n",
      " [0. 0. 0. 0. 1. 0. 0. 0. 0. 0.]]\n"
     ]
    }
   ],
   "source": [
    "print (check_array)"
   ]
  },
  {
   "cell_type": "code",
   "execution_count": null,
   "metadata": {},
   "outputs": [],
   "source": []
  }
 ],
 "metadata": {
  "interpreter": {
   "hash": "e8fe848a4f9386a83e64b01f2a05ba222b3bb825547964d44003d8d92858d730"
  },
  "kernelspec": {
   "display_name": "Python 3.9.7 64-bit ('aoc2021': conda)",
   "language": "python",
   "name": "python3"
  },
  "language_info": {
   "codemirror_mode": {
    "name": "ipython",
    "version": 3
   },
   "file_extension": ".py",
   "mimetype": "text/x-python",
   "name": "python",
   "nbconvert_exporter": "python",
   "pygments_lexer": "ipython3",
   "version": "3.9.7"
  },
  "orig_nbformat": 4
 },
 "nbformat": 4,
 "nbformat_minor": 2
}
