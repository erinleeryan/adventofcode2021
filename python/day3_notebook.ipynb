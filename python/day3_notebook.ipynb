{
    "cells": [
        {
            "cell_type": "code",
            "execution_count": 3,
            "source": [
                "import pandas as pd\r\n",
                "import numpy as np"
            ],
            "outputs": [],
            "metadata": {}
        },
        {
            "cell_type": "code",
            "execution_count": 24,
            "source": [
                "day3_data = '..\\\\data\\\\day3_input.txt'\r\n",
                "\r\n",
                "data = pd.read_csv(day3_data, names=['ENTRY'], dtype=str)\r\n",
                "\r\n",
                "\r\n",
                "for i in range(12):\r\n",
                "    data['B'+str(i)] = data['ENTRY'].str[i]\r\n",
                "\r\n",
                "data\r\n",
                "\r\n",
                "\r\n",
                "epsilon = str(data['B0'].value_counts().idxmin())+str(data['B1'].value_counts().idxmin())+str(data['B2'].value_counts().idxmin())+str(data['B3'].value_counts().idxmin())+str(data['B4'].value_counts().idxmin())+\\\r\n",
                "    str(data['B5'].value_counts().idxmin())+str(data['B6'].value_counts().idxmin())+str(data['B7'].value_counts().idxmin())+str(data['B8'].value_counts().idxmin())+str(data['B9'].value_counts().idxmin())+\\\r\n",
                "        str(data['B10'].value_counts().idxmin())+str(data['B11'].value_counts().idxmin())\r\n",
                "gamma = str(data['B0'].value_counts().idxmax())+str(data['B1'].value_counts().idxmax())+str(data['B2'].value_counts().idxmax())+str(data['B3'].value_counts().idxmax())+str(data['B4'].value_counts().idxmax())+\\\r\n",
                "    str(data['B5'].value_counts().idxmax())+str(data['B6'].value_counts().idxmax())+str(data['B7'].value_counts().idxmax())+str(data['B8'].value_counts().idxmax())+str(data['B9'].value_counts().idxmax())+\\\r\n",
                "        str(data['B10'].value_counts().idxmax())+str(data['B11'].value_counts().idxmax())\r\n",
                "\r\n",
                "print (epsilon, gamma)\r\n",
                "\r\n",
                "product = int(epsilon, 2) * int(gamma,2)\r\n",
                "print (product)"
            ],
            "outputs": [
                {
                    "output_type": "stream",
                    "name": "stdout",
                    "text": [
                        "110001010010 001110101101\n",
                        "2967914\n"
                    ]
                }
            ],
            "metadata": {}
        },
        {
            "cell_type": "code",
            "execution_count": 82,
            "source": [
                "\r\n",
                "\r\n",
                "\r\n",
                "\r\n",
                "data_example = ['00100',\r\n",
                "'11110',\r\n",
                "'10110',\r\n",
                "'10111',\r\n",
                "'10101',\r\n",
                "'01111',\r\n",
                "'00111',\r\n",
                "'11100',\r\n",
                "'10000',\r\n",
                "'11001',\r\n",
                "'00010',\r\n",
                "'01010']\r\n",
                "df = pd.DataFrame(data_example, columns = ['Value'])\r\n",
                "\r\n",
                "\r\n",
                "\r\n",
                "for i in range(5):\r\n",
                "    df['B'+str(i)] = df['Value'].str[i]\r\n",
                "\r\n",
                "\r\n",
                "\r\n",
                "\r\n",
                "generator = df.copy()\r\n",
                "scrubber = df.copy()\r\n",
                "\r\n",
                "\r\n",
                "\r\n",
                "\r\n",
                "for i in range(5):\r\n",
                "    \r\n",
                "    column = 'B'+str(i)\r\n",
                "\r\n",
                "    max = str(generator[column].value_counts().idxmax())\r\n",
                "    generator = generator[generator[column] == max]\r\n",
                "\r\n",
                "    if (len(scrubber) >= 2):\r\n",
                "        s_min = str(scrubber[column].value_counts().idxmin())\r\n",
                "        print (scrubber[column].value_counts().values)\r\n",
                "        if ((scrubber[column].value_counts().values[0] == scrubber[column].value_counts().values[1])):\r\n",
                "            print ('I am equal')\r\n",
                "            print (scrubber)\r\n",
                "            scrubber = scrubber[scrubber[column] == '0']\r\n",
                "            print (scrubber)\r\n",
                "        else:\r\n",
                "            scrubber = scrubber[scrubber[column] == s_min]\r\n",
                " \r\n",
                "\r\n",
                "print (int(str(generator['Value'].value),2))\r\n",
                "print (int(str(scrubber['Value'].value),2))\r\n",
                "\r\n",
                "    "
            ],
            "outputs": [
                {
                    "output_type": "stream",
                    "name": "stdout",
                    "text": [
                        "[7 5]\n",
                        "[3 2]\n",
                        "[1 1]\n",
                        "I am equal\n",
                        "    Value B0 B1 B2 B3 B4\n",
                        "5   01111  0  1  1  1  1\n",
                        "11  01010  0  1  0  1  0\n",
                        "    Value B0 B1 B2 B3 B4\n",
                        "11  01010  0  1  0  1  0\n"
                    ]
                },
                {
                    "output_type": "error",
                    "ename": "AttributeError",
                    "evalue": "'Series' object has no attribute 'value'",
                    "traceback": [
                        "\u001b[1;31m---------------------------------------------------------------------------\u001b[0m",
                        "\u001b[1;31mAttributeError\u001b[0m                            Traceback (most recent call last)",
                        "\u001b[1;32m<ipython-input-82-3f5732ede871>\u001b[0m in \u001b[0;36m<module>\u001b[1;34m\u001b[0m\n\u001b[0;32m     46\u001b[0m \u001b[1;33m\u001b[0m\u001b[0m\n\u001b[0;32m     47\u001b[0m \u001b[1;33m\u001b[0m\u001b[0m\n\u001b[1;32m---> 48\u001b[1;33m \u001b[0mprint\u001b[0m \u001b[1;33m(\u001b[0m\u001b[0mint\u001b[0m\u001b[1;33m(\u001b[0m\u001b[0mstr\u001b[0m\u001b[1;33m(\u001b[0m\u001b[0mgenerator\u001b[0m\u001b[1;33m[\u001b[0m\u001b[1;34m'Value'\u001b[0m\u001b[1;33m]\u001b[0m\u001b[1;33m.\u001b[0m\u001b[0mvalue\u001b[0m\u001b[1;33m)\u001b[0m\u001b[1;33m,\u001b[0m\u001b[1;36m2\u001b[0m\u001b[1;33m)\u001b[0m\u001b[1;33m)\u001b[0m\u001b[1;33m\u001b[0m\u001b[1;33m\u001b[0m\u001b[0m\n\u001b[0m\u001b[0;32m     49\u001b[0m \u001b[0mprint\u001b[0m \u001b[1;33m(\u001b[0m\u001b[0mint\u001b[0m\u001b[1;33m(\u001b[0m\u001b[0mstr\u001b[0m\u001b[1;33m(\u001b[0m\u001b[0mscrubber\u001b[0m\u001b[1;33m[\u001b[0m\u001b[1;34m'Value'\u001b[0m\u001b[1;33m]\u001b[0m\u001b[1;33m.\u001b[0m\u001b[0mvalue\u001b[0m\u001b[1;33m)\u001b[0m\u001b[1;33m,\u001b[0m\u001b[1;36m2\u001b[0m\u001b[1;33m)\u001b[0m\u001b[1;33m)\u001b[0m\u001b[1;33m\u001b[0m\u001b[1;33m\u001b[0m\u001b[0m\n\u001b[0;32m     50\u001b[0m \u001b[1;33m\u001b[0m\u001b[0m\n",
                        "\u001b[1;32m~\\Anaconda3\\lib\\site-packages\\pandas\\core\\generic.py\u001b[0m in \u001b[0;36m__getattr__\u001b[1;34m(self, name)\u001b[0m\n\u001b[0;32m   5463\u001b[0m             \u001b[1;32mif\u001b[0m \u001b[0mself\u001b[0m\u001b[1;33m.\u001b[0m\u001b[0m_info_axis\u001b[0m\u001b[1;33m.\u001b[0m\u001b[0m_can_hold_identifiers_and_holds_name\u001b[0m\u001b[1;33m(\u001b[0m\u001b[0mname\u001b[0m\u001b[1;33m)\u001b[0m\u001b[1;33m:\u001b[0m\u001b[1;33m\u001b[0m\u001b[1;33m\u001b[0m\u001b[0m\n\u001b[0;32m   5464\u001b[0m                 \u001b[1;32mreturn\u001b[0m \u001b[0mself\u001b[0m\u001b[1;33m[\u001b[0m\u001b[0mname\u001b[0m\u001b[1;33m]\u001b[0m\u001b[1;33m\u001b[0m\u001b[1;33m\u001b[0m\u001b[0m\n\u001b[1;32m-> 5465\u001b[1;33m             \u001b[1;32mreturn\u001b[0m \u001b[0mobject\u001b[0m\u001b[1;33m.\u001b[0m\u001b[0m__getattribute__\u001b[0m\u001b[1;33m(\u001b[0m\u001b[0mself\u001b[0m\u001b[1;33m,\u001b[0m \u001b[0mname\u001b[0m\u001b[1;33m)\u001b[0m\u001b[1;33m\u001b[0m\u001b[1;33m\u001b[0m\u001b[0m\n\u001b[0m\u001b[0;32m   5466\u001b[0m \u001b[1;33m\u001b[0m\u001b[0m\n\u001b[0;32m   5467\u001b[0m     \u001b[1;32mdef\u001b[0m \u001b[0m__setattr__\u001b[0m\u001b[1;33m(\u001b[0m\u001b[0mself\u001b[0m\u001b[1;33m,\u001b[0m \u001b[0mname\u001b[0m\u001b[1;33m:\u001b[0m \u001b[0mstr\u001b[0m\u001b[1;33m,\u001b[0m \u001b[0mvalue\u001b[0m\u001b[1;33m)\u001b[0m \u001b[1;33m->\u001b[0m \u001b[1;32mNone\u001b[0m\u001b[1;33m:\u001b[0m\u001b[1;33m\u001b[0m\u001b[1;33m\u001b[0m\u001b[0m\n",
                        "\u001b[1;31mAttributeError\u001b[0m: 'Series' object has no attribute 'value'"
                    ]
                }
            ],
            "metadata": {}
        },
        {
            "cell_type": "code",
            "execution_count": 62,
            "source": [
                "generator = int('011110000111',2)\r\n",
                "scrubber = int('111001101001',2)\r\n",
                "\r\n",
                "print (generator, scrubber, generator*scrubber)"
            ],
            "outputs": [
                {
                    "output_type": "stream",
                    "name": "stdout",
                    "text": [
                        "1927 3689 7108703\n"
                    ]
                }
            ],
            "metadata": {}
        },
        {
            "cell_type": "code",
            "execution_count": null,
            "source": [],
            "outputs": [],
            "metadata": {}
        }
    ],
    "metadata": {
        "orig_nbformat": 4,
        "language_info": {
            "name": "python",
            "version": "3.7.3",
            "mimetype": "text/x-python",
            "codemirror_mode": {
                "name": "ipython",
                "version": 3
            },
            "pygments_lexer": "ipython3",
            "nbconvert_exporter": "python",
            "file_extension": ".py"
        },
        "kernelspec": {
            "name": "python3",
            "display_name": "Python 3.7.3 64-bit (conda)"
        },
        "interpreter": {
            "hash": "f8f82b5f9943245d3c47e8eec4aca747556c89a7b5a708dc71da221a1d33791d"
        }
    },
    "nbformat": 4,
    "nbformat_minor": 2
}