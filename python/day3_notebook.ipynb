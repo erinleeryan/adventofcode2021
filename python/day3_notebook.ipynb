{
    "cells": [
        {
            "cell_type": "code",
            "execution_count": 3,
            "source": [
                "import pandas as pd\r\n",
                "import numpy as np"
            ],
            "outputs": [],
            "metadata": {}
        },
        {
            "cell_type": "code",
            "execution_count": 24,
            "source": [
                "day3_data = '..\\\\data\\\\day3_input.txt'\r\n",
                "\r\n",
                "# read the data into pandas\r\n",
                "data = pd.read_csv(day3_data, names=['ENTRY'], dtype=str)\r\n",
                "\r\n",
                "# take each line in pandas and break each element/character into it's own column. The data is 12 characters long so we need 12 new columns\r\n",
                "for i in range(12):\r\n",
                "    data['B'+str(i)] = data['ENTRY'].str[i]\r\n",
                "\r\n",
                "data\r\n",
                "\r\n",
                "# value_counts() in pandas gives you the value in the column as the index and then the number of time in appears, sorted from min to max\r\n",
                "\r\n",
                "epsilon = str(data['B0'].value_counts().idxmin())+str(data['B1'].value_counts().idxmin())+str(data['B2'].value_counts().idxmin())+str(data['B3'].value_counts().idxmin())+str(data['B4'].value_counts().idxmin())+\\\r\n",
                "    str(data['B5'].value_counts().idxmin())+str(data['B6'].value_counts().idxmin())+str(data['B7'].value_counts().idxmin())+str(data['B8'].value_counts().idxmin())+str(data['B9'].value_counts().idxmin())+\\\r\n",
                "        str(data['B10'].value_counts().idxmin())+str(data['B11'].value_counts().idxmin())\r\n",
                "gamma = str(data['B0'].value_counts().idxmax())+str(data['B1'].value_counts().idxmax())+str(data['B2'].value_counts().idxmax())+str(data['B3'].value_counts().idxmax())+str(data['B4'].value_counts().idxmax())+\\\r\n",
                "    str(data['B5'].value_counts().idxmax())+str(data['B6'].value_counts().idxmax())+str(data['B7'].value_counts().idxmax())+str(data['B8'].value_counts().idxmax())+str(data['B9'].value_counts().idxmax())+\\\r\n",
                "        str(data['B10'].value_counts().idxmax())+str(data['B11'].value_counts().idxmax())\r\n",
                "\r\n",
                "print (epsilon, gamma)\r\n",
                "\r\n",
                "product = int(epsilon, 2) * int(gamma,2)\r\n",
                "print (product)"
            ],
            "outputs": [
                {
                    "output_type": "stream",
                    "name": "stdout",
                    "text": [
                        "110001010010 001110101101\n",
                        "2967914\n"
                    ]
                }
            ],
            "metadata": {}
        },
        {
            "cell_type": "code",
            "execution_count": 88,
            "source": [
                "\r\n",
                "\r\n",
                "\r\n",
                "generator = data.copy()\r\n",
                "scrubber = data.copy()\r\n",
                "\r\n",
                "\r\n",
                "\r\n",
                "\r\n",
                "for i in range(12):\r\n",
                "    \r\n",
                "    column = 'B'+str(i)\r\n",
                "\r\n",
                "    max = str(generator[column].value_counts().idxmax())\r\n",
                "    generator = generator[generator[column] == max]\r\n",
                "\r\n",
                "    if (len(scrubber) >= 2):\r\n",
                "        s_min = str(scrubber[column].value_counts().idxmin())\r\n",
                "        #print (scrubber[column].value_counts().values)\r\n",
                "        if ((scrubber[column].value_counts().values[0] == scrubber[column].value_counts().values[1])):\r\n",
                "            #print ('I am equal')\r\n",
                "            #print (scrubber)\r\n",
                "            scrubber = scrubber[scrubber[column] == '0']\r\n",
                "            #print (scrubber)\r\n",
                "        else:\r\n",
                "            scrubber = scrubber[scrubber[column] == s_min]\r\n",
                " \r\n",
                "\r\n",
                "print (int(str(generator['ENTRY'].values[0]),2))\r\n",
                "print (int(str(scrubber['ENTRY'].values[0]),2))\r\n",
                "\r\n",
                "print (int(str(generator['ENTRY'].values[0]),2) * int(str(scrubber['ENTRY'].values[0]),2))\r\n",
                "\r\n",
                "    "
            ],
            "outputs": [
                {
                    "output_type": "stream",
                    "name": "stdout",
                    "text": [
                        "1927\n",
                        "3654\n",
                        "7041258\n"
                    ]
                }
            ],
            "metadata": {}
        },
        {
            "cell_type": "code",
            "execution_count": 62,
            "source": [
                "generator = int('011110000111',2)\r\n",
                "scrubber = int('111001101001',2)\r\n",
                "\r\n",
                "print (generator, scrubber, generator*scrubber)"
            ],
            "outputs": [
                {
                    "output_type": "stream",
                    "name": "stdout",
                    "text": [
                        "1927 3689 7108703\n"
                    ]
                }
            ],
            "metadata": {}
        },
        {
            "cell_type": "code",
            "execution_count": null,
            "source": [],
            "outputs": [],
            "metadata": {}
        }
    ],
    "metadata": {
        "orig_nbformat": 4,
        "language_info": {
            "name": "python",
            "version": "3.7.3",
            "mimetype": "text/x-python",
            "codemirror_mode": {
                "name": "ipython",
                "version": 3
            },
            "pygments_lexer": "ipython3",
            "nbconvert_exporter": "python",
            "file_extension": ".py"
        },
        "kernelspec": {
            "name": "python3",
            "display_name": "Python 3.7.3 64-bit (conda)"
        },
        "interpreter": {
            "hash": "f8f82b5f9943245d3c47e8eec4aca747556c89a7b5a708dc71da221a1d33791d"
        }
    },
    "nbformat": 4,
    "nbformat_minor": 2
}