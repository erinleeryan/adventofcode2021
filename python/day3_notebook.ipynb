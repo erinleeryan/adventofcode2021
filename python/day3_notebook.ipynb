{
    "cells": [
        {
            "cell_type": "code",
            "execution_count": 1,
            "source": [
                "import pandas as pd"
            ],
            "outputs": [],
            "metadata": {}
        }
    ],
    "metadata": {
        "orig_nbformat": 4,
        "language_info": {
            "name": "python",
            "version": "3.7.3",
            "mimetype": "text/x-python",
            "codemirror_mode": {
                "name": "ipython",
                "version": 3
            },
            "pygments_lexer": "ipython3",
            "nbconvert_exporter": "python",
            "file_extension": ".py"
        },
        "kernelspec": {
            "name": "python3",
            "display_name": "Python 3.7.3 64-bit (conda)"
        },
        "interpreter": {
            "hash": "f8f82b5f9943245d3c47e8eec4aca747556c89a7b5a708dc71da221a1d33791d"
        }
    },
    "nbformat": 4,
    "nbformat_minor": 2
}