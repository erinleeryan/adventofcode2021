{
 "cells": [
  {
   "cell_type": "code",
   "execution_count": 1,
   "source": [
    "import numpy as np"
   ],
   "outputs": [],
   "metadata": {}
  },
  {
   "cell_type": "code",
   "execution_count": 18,
   "source": [
    "day8_input = list(np.genfromtxt('..\\\\data\\\\day8_input.txt', dtype='str', delimiter='\\\\n'))\r\n",
    "\r\n",
    "number_segments= {'0':6, '1':2, '2':5, '3':5, '4': 4, '5': 5, '6':6, '7':3, '8':7, '9':6}\r\n",
    "patterns, output = zip(*(s.split(\"| \") for s in day8_input))\r\n",
    "\r\n",
    "number_of_ones = 0\r\n",
    "number_of_fours= 0\r\n",
    "number_of_sevens =0 \r\n",
    "number_of_eights = 0\r\n",
    "\r\n",
    "for line in output:\r\n",
    "    values = line.split(' ')\r\n",
    "    count = [len(values[0]), len(values[1]), len(values[2]), len(values[3])]\r\n",
    "    if number_segments['1'] in count:\r\n",
    "        number_of_ones += count.count(number_segments['1'])\r\n",
    "    if number_segments['4'] in count:\r\n",
    "        number_of_fours += count.count(number_segments['4'])\r\n",
    "    if number_segments['7'] in count:\r\n",
    "        number_of_sevens += count.count(number_segments['7'])\r\n",
    "    if number_segments['8'] in count:\r\n",
    "        number_of_eights += count.count(number_segments['8'])\r\n",
    "\r\n",
    "\r\n",
    "print (number_of_ones + number_of_fours + number_of_sevens+ number_of_eights)\r\n",
    "\r\n",
    "\r\n"
   ],
   "outputs": [
    {
     "output_type": "stream",
     "name": "stdout",
     "text": [
      "445\n"
     ]
    }
   ],
   "metadata": {}
  },
  {
   "cell_type": "code",
   "execution_count": null,
   "source": [],
   "outputs": [],
   "metadata": {}
  }
 ],
 "metadata": {
  "orig_nbformat": 4,
  "language_info": {
   "name": "python",
   "version": "3.7.3",
   "mimetype": "text/x-python",
   "codemirror_mode": {
    "name": "ipython",
    "version": 3
   },
   "pygments_lexer": "ipython3",
   "nbconvert_exporter": "python",
   "file_extension": ".py"
  },
  "kernelspec": {
   "name": "python3",
   "display_name": "Python 3.7.3 64-bit ('base': conda)"
  },
  "interpreter": {
   "hash": "f8f82b5f9943245d3c47e8eec4aca747556c89a7b5a708dc71da221a1d33791d"
  }
 },
 "nbformat": 4,
 "nbformat_minor": 2
}